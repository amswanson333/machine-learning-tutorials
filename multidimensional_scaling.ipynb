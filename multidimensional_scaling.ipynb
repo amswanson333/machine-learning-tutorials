{
 "cells": [
  {
   "cell_type": "code",
   "execution_count": 1,
   "metadata": {},
   "outputs": [],
   "source": [
    "import numpy as np"
   ]
  },
  {
   "cell_type": "code",
   "execution_count": 2,
   "metadata": {},
   "outputs": [
    {
     "name": "stdout",
     "output_type": "stream",
     "text": [
      "[[ 4.7964  0.      0.      0.      0.    ]\n",
      " [ 0.      0.3039  0.      0.      0.    ]\n",
      " [ 0.      0.      0.0063  0.      0.    ]\n",
      " [ 0.      0.      0.      0.      0.    ]\n",
      " [ 0.      0.      0.      0.     -0.0067]]\n"
     ]
    }
   ],
   "source": [
    "lambda_mx = np.diag([4.7964,0.3039,0.0063, 0, -0.0067])\n",
    "print(lambda_mx)"
   ]
  },
  {
   "cell_type": "code",
   "execution_count": 3,
   "metadata": {},
   "outputs": [
    {
     "name": "stdout",
     "output_type": "stream",
     "text": [
      "[[ 0.8869  0.0848 -0.0486 -0.4472  0.0624]\n",
      " [-0.2419  0.4835  0.7019 -0.4472  0.1229]\n",
      " [-0.2157  0.2252 -0.3839 -0.4472 -0.7452]\n",
      " [-0.3049  0.0469 -0.5355 -0.4472  0.6466]\n",
      " [-0.1245 -0.8403  0.2661 -0.4472 -0.0867]]\n"
     ]
    }
   ],
   "source": [
    "v_mx = np.array([[0.8869,0.0848,-0.0486,-0.4472,0.0624],\n",
    "                 [-0.2419,0.4835,0.7019,-0.4472,0.1229],\n",
    "                 [-0.2157,0.2252,-0.3839,-0.4472,-0.7452],\n",
    "                 [-0.3049,0.0469,-0.5355,-0.4472,0.6466],\n",
    "                 [-0.1245,-0.8403,0.2661,-0.4472,-0.0867]])\n",
    "print(v_mx)"
   ]
  },
  {
   "cell_type": "code",
   "execution_count": 11,
   "metadata": {},
   "outputs": [
    {
     "name": "stdout",
     "output_type": "stream",
     "text": [
      "[[4.7964 0.    ]\n",
      " [0.     0.3039]\n",
      " [0.     0.    ]\n",
      " [0.     0.    ]\n",
      " [0.     0.    ]]\n"
     ]
    }
   ],
   "source": [
    "print(lambda_mx[:,0:2])"
   ]
  },
  {
   "cell_type": "code",
   "execution_count": 14,
   "metadata": {},
   "outputs": [
    {
     "name": "stderr",
     "output_type": "stream",
     "text": [
      "C:\\Users\\keyan\\AppData\\Local\\Temp\\ipykernel_56736\\3686861828.py:1: RuntimeWarning: invalid value encountered in sqrt\n",
      "  v_mx @ np.sqrt(lambda_mx)\n"
     ]
    },
    {
     "data": {
      "text/plain": [
       "array([[ 1.94237175,  0.0467478 , -0.00385751,  0.        ,         nan],\n",
       "       [-0.52977757,  0.26653965,  0.05571159,  0.        ,         nan],\n",
       "       [-0.47239777,  0.12414629, -0.03047112,  0.        ,         nan],\n",
       "       [-0.66775188,  0.02585462, -0.04250399,  0.        ,         nan],\n",
       "       [-0.27266353, -0.46323324,  0.02112103,  0.        ,         nan]])"
      ]
     },
     "execution_count": 14,
     "metadata": {},
     "output_type": "execute_result"
    }
   ],
   "source": [
    "v_mx @ np.sqrt(lambda_mx)"
   ]
  },
  {
   "cell_type": "code",
   "execution_count": 15,
   "metadata": {},
   "outputs": [
    {
     "name": "stdout",
     "output_type": "stream",
     "text": [
      "[0 0 0 0 1 1 1 2 2 3]\n",
      "[1 2 3 4 2 3 4 3 4 4]\n"
     ]
    }
   ],
   "source": [
    "r,c = np.triu_indices(v_mx.shape[0],1)\n",
    "print(r)\n",
    "print(c)"
   ]
  },
  {
   "cell_type": "code",
   "execution_count": 16,
   "metadata": {},
   "outputs": [
    {
     "data": {
      "text/plain": [
       "array([ 0.0848, -0.0486, -0.4472,  0.0624,  0.7019, -0.4472,  0.1229,\n",
       "       -0.4472, -0.7452,  0.6466])"
      ]
     },
     "execution_count": 16,
     "metadata": {},
     "output_type": "execute_result"
    }
   ],
   "source": [
    "v_mx[r,c]"
   ]
  },
  {
   "cell_type": "code",
   "execution_count": null,
   "metadata": {},
   "outputs": [],
   "source": []
  }
 ],
 "metadata": {
  "kernelspec": {
   "display_name": "base",
   "language": "python",
   "name": "python3"
  },
  "language_info": {
   "codemirror_mode": {
    "name": "ipython",
    "version": 3
   },
   "file_extension": ".py",
   "mimetype": "text/x-python",
   "name": "python",
   "nbconvert_exporter": "python",
   "pygments_lexer": "ipython3",
   "version": "3.12.4"
  }
 },
 "nbformat": 4,
 "nbformat_minor": 2
}
