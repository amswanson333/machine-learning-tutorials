{
 "cells": [
  {
   "cell_type": "markdown",
   "id": "3047d6a8",
   "metadata": {},
   "source": [
    "# Principal Components Analysis (PCA)"
   ]
  },
  {
   "cell_type": "markdown",
   "id": "31687f3e",
   "metadata": {},
   "source": []
  }
 ],
 "metadata": {
  "language_info": {
   "name": "python"
  }
 },
 "nbformat": 4,
 "nbformat_minor": 5
}
